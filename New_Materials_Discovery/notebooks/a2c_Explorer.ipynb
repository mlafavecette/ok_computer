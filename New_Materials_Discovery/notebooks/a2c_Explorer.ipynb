{
 "cells": [
  {
   "metadata": {
    "id": "tsB-G9mLDl1w"
   },
   "cell_type": "markdown",
   "source": [
    "# Exploring the supporting data accompanying the a2c manuscript\n",
    "\n",
    "A crystal structure prediction pipeline accompanying [GNoME](https://www.nature.com/articles/s41586-023-06735-9) and utilizing the ML potentials therein was introduced in the [a2c preprint](https://arxiv.org/abs/2310.01117). For the campaigns reported in the manuscript, here we explore the accompanying supporting data in `a2c_supporting_data.json` available as part of the GNoME repository. For each campaign, the dataset contains:\n",
    "\n",
    " - Generated amorphous structures\n",
    " - The subcells extracted using a2c at the settings specific in the paper\n",
    " - Index *i* of a particular subcell from the amorphous phase that relaxed into the target phase\n",
    " - The force-field-relaxed final structure of subcell *i*\n",
    " - The DFT-relaxed final structure of subcell *i*\n",
    "\n",
    "The final DFT results are included as a validation of the overall pipeline, and is run with VASP at the MPRelaxSet settings (two consecutive relaxation runs)."
   ]
  },
  {
   "cell_type": "code",
   "execution_count": null,
   "metadata": {
    "id": "zCJrWmjH049O"
   },
   "outputs": [],
   "source": [
    "!pip3 install pymatgen"
   ]
  },
  {
   "cell_type": "code",
   "execution_count": null,
   "metadata": {
    "id": "oc0dV9Wd1NFT"
   },
   "outputs": [],
   "source": [
    "import os\n",
    "import json\n",
    "from pymatgen.core import Structure\n",
    "from pymatgen.analysis.structure_matcher import StructureMatcher"
   ]
  },
  {
   "cell_type": "markdown",
   "metadata": {
    "id": "dqPw2A0TSbVC"
   },
   "source": [
    "# Load data"
   ]
  },
  {
   "cell_type": "code",
   "execution_count": null,
   "metadata": {
    "id": "G4X3-f5Q1Hrp"
   },
   "outputs": [],
   "source": [
    "PUBLIC_LINK = \"https://storage.googleapis.com/\"\n",
    "BUCKET_NAME = \"gdm_materials_discovery\"\n",
    "\n",
    "FOLDER_NAME = \"gnome_data/auxiliary_gnome_data\"\n",
    "FILES = (\n",
    "    \"a2c_supporting_data.json\",\n",
    ")\n",
    "\n",
    "def download_from_link(link: str, output_dir: str):\n",
    "  \"\"\"Download the file from a public link using wget.\"\"\"\n",
    "  os.system(f\"wget {link} -P {output_dir}\")\n",
    "\n",
    "parent_directory = os.path.join(PUBLIC_LINK, BUCKET_NAME)\n",
    "for filename in FILES:\n",
    "  public_link = os.path.join(parent_directory, FOLDER_NAME, filename)\n",
    "  download_from_link(public_link, '.')"
   ]
  },
  {
   "cell_type": "code",
   "execution_count": null,
   "metadata": {
    "id": "PaJOBMwfJkOZ"
   },
   "outputs": [],
   "source": [
    "with open(\"a2c_supporting_data.json\", \"r\") as f:\n",
    "  a2c_data = json.load(f)"
   ]
  },
  {
   "cell_type": "markdown",
   "metadata": {
    "id": "rj0PNQ08TJtD"
   },
   "source": [
    "Below is a convenience function that prepares a zipped folder structure containing the final structures for each a2c campaign in a2c_data"
   ]
  },
  {
   "cell_type": "code",
   "execution_count": null,
   "metadata": {
    "id": "N-yh2z_eMZj-"
   },
   "outputs": [],
   "source": [
    "def get_saved_poscars_zip(merged_data, base_dir='a2c_supporting_data'):\n",
    "  os.mkdir(base_dir)\n",
    "  for k, data_dump in merged_data.items():\n",
    "    path = os.path.join(base_dir, k)\n",
    "    os.mkdir(path)\n",
    "\n",
    "    with open(os.path.join(path, 'a.vasp'), 'w') as f:\n",
    "      f.write(data_dump['amorphous_structure'])\n",
    "\n",
    "    for a2c_match in data_dump['a2c_match_after_relax_example']:\n",
    "      with open(os.path.join(path, 'a2c_match_{}_{}_FF.vasp'.format(a2c_match['index_in_a2c_initial_structures'], a2c_match['formula'])), 'w') as f:\n",
    "        f.write(a2c_match['relaxed_ff'])\n",
    "      with open(os.path.join(path, 'a2c_match_{}_{}_DFT.vasp'.format(a2c_match['index_in_a2c_initial_structures'], a2c_match['formula'])), 'w') as f:\n",
    "        f.write(a2c_match['relaxed_dft'])\n",
    "      with open(os.path.join(path, 'a2c_match_{}_initial.vasp'.format(a2c_match['index_in_a2c_initial_structures'], a2c_match['formula'])), 'w') as f:\n",
    "        f.write(data_dump['a2c_initial_structures'][a2c_match['index_in_a2c_initial_structures']])\n",
    "\n",
    "  os.system('zip -r {} {}'.format(base_dir+'.zip',base_dir))"
   ]
  },
  {
   "cell_type": "code",
   "execution_count": null,
   "metadata": {
    "id": "o3wzDlpTSpHA"
   },
   "outputs": [],
   "source": [
    "get_saved_poscars_zip(a2c_data)"
   ]
  },
  {
   "cell_type": "markdown",
   "metadata": {
    "id": "HvRDMNbjyxq6"
   },
   "source": [
    "# Analysis\n",
    "\n",
    "We have 14 systems across various chemical spaces and various crystallization products."
   ]
  },
  {
   "cell_type": "code",
   "execution_count": null,
   "metadata": {
    "id": "myy6dIdwywni"
   },
   "outputs": [],
   "source": [
    "a2c_data.keys()"
   ]
  },
  {
   "cell_type": "markdown",
   "metadata": {
    "id": "jMheePBYzPas"
   },
   "source": [
    "For each system, we have an amorphous structure, a set of initial structures extracted from this amorphous structure using a2c utilities, and concrete examples of of one or more of these initial subcells that relaxed into the target crystal"
   ]
  },
  {
   "cell_type": "code",
   "execution_count": null,
   "metadata": {
    "id": "A0Wewu6py58l"
   },
   "outputs": [],
   "source": [
    "a2c_data['Al2O3'].keys()"
   ]
  },
  {
   "cell_type": "code",
   "execution_count": null,
   "metadata": {
    "id": "NAkkyefbzLak"
   },
   "outputs": [],
   "source": [
    "a2c_data['Al2O3']['amorphous_structure']"
   ]
  },
  {
   "cell_type": "markdown",
   "metadata": {
    "id": "g7jKVWawYPhb"
   },
   "source": [
    "Let's see the a2c crystallization product provided:"
   ]
  },
  {
   "cell_type": "code",
   "execution_count": null,
   "metadata": {
    "id": "EoT9H0caz6_c"
   },
   "outputs": [],
   "source": [
    "a2c_data['Al2O3']['a2c_match_after_relax_example']"
   ]
  },
  {
   "cell_type": "markdown",
   "metadata": {
    "id": "VMSkoucxYavF"
   },
   "source": [
    "We can locate the \"initial subcell\" cut-out from the amorphous structure:"
   ]
  },
  {
   "cell_type": "code",
   "execution_count": null,
   "metadata": {
    "id": "lSf7RKawYekI"
   },
   "outputs": [],
   "source": [
    "idx = a2c_data['Al2O3']['a2c_match_after_relax_example'][0]['index_in_a2c_initial_structures']\n",
    "initial_structure = a2c_data['Al2O3']['a2c_initial_structures'][idx]\n",
    "initial_structure"
   ]
  },
  {
   "cell_type": "markdown",
   "metadata": {
    "id": "yCcEcTWpYoZQ"
   },
   "source": [
    "FF and DFT relaxation outputs (as we saw above):"
   ]
  },
  {
   "cell_type": "code",
   "execution_count": null,
   "metadata": {
    "id": "G589VqKaYkPT"
   },
   "outputs": [],
   "source": [
    "ff_relaxed = Structure.from_str(a2c_data['Al2O3']['a2c_match_after_relax_example'][0]['relaxed_ff'], fmt='poscar')\n",
    "dft_relaxed = Structure.from_str(a2c_data['Al2O3']['a2c_match_after_relax_example'][0]['relaxed_dft'], fmt='poscar')"
   ]
  },
  {
   "cell_type": "code",
   "execution_count": null,
   "metadata": {
    "id": "uhQYY_-4Y10T"
   },
   "outputs": [],
   "source": [
    "ff_relaxed"
   ]
  },
  {
   "cell_type": "code",
   "execution_count": null,
   "metadata": {
    "id": "_qz4HDa4Y2C5"
   },
   "outputs": [],
   "source": [
    "dft_relaxed"
   ]
  },
  {
   "cell_type": "markdown",
   "metadata": {
    "id": "Z-rP7Ka9Y4WW"
   },
   "source": [
    "Let's compare the FF and DFT structures to the experimental structure."
   ]
  },
  {
   "cell_type": "code",
   "execution_count": null,
   "metadata": {
    "id": "8YDhc3U3Y3B6"
   },
   "outputs": [],
   "source": [
    "experimental_structure = Structure.from_str(\"\"\"Al8 O12 - Theta Alumina\n",
    "1.0\n",
    "   0.0000000000000000   11.7928039938604172    0.0000000000000000\n",
    "   2.9074770832785912    0.0000000000000000    0.0000000000000000\n",
    "   0.0000000000000000   -1.3644423914716102   -5.4468586437869098\n",
    "Al O\n",
    "8 12\n",
    "direct\n",
    "   0.0904720900000000    0.0000000000000000    0.7956463100000000 Al3+\n",
    "   0.4095279100000000    0.5000000000000000    0.2043536900000000 Al3+\n",
    "   0.3419676300000001    0.0000000000000000    0.6825378799999999 Al3+\n",
    "   0.1580323699999999    0.5000000000000000    0.3174621200000001 Al3+\n",
    "   0.5904720900000000    0.5000000000000000    0.7956463100000000 Al3+\n",
    "   0.9095279100000000    0.0000000000000000    0.2043536900000000 Al3+\n",
    "   0.8419676300000001    0.5000000000000000    0.6825378799999999 Al3+\n",
    "   0.6580323699999999    0.0000000000000000    0.3174621200000001 Al3+\n",
    "   0.1606788400000000    0.0000000000000000    0.1090139600000000 O2-\n",
    "   0.3393211600000000    0.5000000000000000    0.8909860400000000 O2-\n",
    "   0.4952159600000000    0.0000000000000000    0.2575462300000000 O2-\n",
    "   0.0047840400000000    0.5000000000000000    0.7424537700000000 O2-\n",
    "   0.3265092550000001    0.5000000000000000    0.4330948900000000 O2-\n",
    "   0.1734907449999999    0.0000000000000000    0.5669051100000000 O2-\n",
    "   0.6606788400000001    0.5000000000000000    0.1090139600000000 O2-\n",
    "   0.8393211599999999    0.0000000000000000    0.8909860400000000 O2-\n",
    "   0.9952159599999999    0.5000000000000000    0.2575462300000000 O2-\n",
    "   0.5047840400000001    0.0000000000000000    0.7424537700000000 O2-\n",
    "   0.8265092549999999    0.0000000000000000    0.4330948900000000 O2-\n",
    "   0.6734907450000001    0.5000000000000000    0.5669051100000000 O2-\"\"\", fmt='poscar')\n",
    "experimental_structure.remove_oxidation_states()\n"
   ]
  },
  {
   "cell_type": "markdown",
   "metadata": {
    "id": "Q-pA_8rlZ00J"
   },
   "source": [
    "Confirming the structures match:"
   ]
  },
  {
   "cell_type": "code",
   "execution_count": null,
   "metadata": {
    "id": "qQ3WhQ1kaAfv"
   },
   "outputs": [],
   "source": [
    "sm = StructureMatcher()"
   ]
  },
  {
   "cell_type": "code",
   "execution_count": null,
   "metadata": {
    "id": "cDBvto3cCRCs"
   },
   "outputs": [],
   "source": [
    "ff_relaxed"
   ]
  },
  {
   "cell_type": "code",
   "execution_count": null,
   "metadata": {
    "id": "B0XINP0VZkOO"
   },
   "outputs": [],
   "source": [
    "sm.fit(ff_relaxed, experimental_structure)"
   ]
  },
  {
   "cell_type": "code",
   "execution_count": null,
   "metadata": {
    "id": "crPtmdJkZznL"
   },
   "outputs": [],
   "source": [
    "sm.fit(dft_relaxed, experimental_structure)"
   ]
  }
 ],
 "metadata": {
  "kernelspec": {
   "display_name": "Python 3",
   "name": "python3"
  },
  "language_info": {
   "name": "python"
  }
 },
 "nbformat": 4,
 "nbformat_minor": 0
}
